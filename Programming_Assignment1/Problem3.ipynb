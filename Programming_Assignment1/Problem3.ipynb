{
  "cells": [
    {
      "cell_type": "markdown",
      "metadata": {
        "id": "J-pFKzj71oyp"
      },
      "source": [
        "# Problem3\n",
        "### 20191128 Jian Park"
      ]
    },
    {
      "cell_type": "code",
      "execution_count": 1,
      "metadata": {},
      "outputs": [],
      "source": [
        "import torch\n",
        "import torch.nn as nn"
      ]
    },
    {
      "cell_type": "code",
      "execution_count": 2,
      "metadata": {
        "id": "lZUJWItA1m_u"
      },
      "outputs": [],
      "source": [
        "\n",
        "class DoorLock(nn.Module):\n",
        "  def __init__(self):\n",
        "    super().__init__()\n",
        "    self.f = nn.Sequential(\n",
        "        nn.Linear(100, 1),\n",
        "        nn.Sigmoid()\n",
        "    )\n",
        "    for p in self.f.parameters():\n",
        "      p.requires_grad = False\n",
        " \n",
        "  def forward(self, x):\n",
        "    y = self.f(x)\n",
        "    if(y > 0.9):\n",
        "      print('Opened!')\n",
        "    return y\n",
        " \n",
        "class DoorHack(nn.Module):\n",
        "  def __init__(self, locker):\n",
        "    super().__init__()\n",
        "    self.g = nn.Sequential(\n",
        "        nn.Linear(100, 100),\n",
        "    )\n",
        "    self.locker = locker\n",
        "    \n",
        "  def forward(self, z):        \n",
        "    y = self.locker(self.g(z))\n",
        "    return y"
      ]
    },
    {
      "cell_type": "code",
      "execution_count": 3,
      "metadata": {
        "id": "6z1E3LqZsejH"
      },
      "outputs": [],
      "source": [
        "num_trials = 50 # we optimaize 50 trials \n",
        "learning_rate = 0.1\n",
        "locker = DoorLock()\n",
        "hacker = DoorHack(locker)"
      ]
    },
    {
      "cell_type": "code",
      "execution_count": 4,
      "metadata": {
        "colab": {
          "base_uri": "https://localhost:8080/"
        },
        "id": "QeLnt1QvD-OP",
        "outputId": "762511db-c7d2-4c6f-c934-11397818ad6c"
      },
      "outputs": [
        {
          "name": "stdout",
          "output_type": "stream",
          "text": [
            "tensor([0.1849, 0.0155, 0.2598, 0.4631, 0.6136, 0.0316, 0.9940, 0.5674, 0.5168,\n",
            "        0.2586, 0.1798, 0.6873, 0.4229, 0.2203, 0.9068, 0.9419, 0.4312, 0.6140,\n",
            "        0.6433, 0.4919, 0.8637, 0.2005, 0.2231, 0.2714, 0.1817, 0.0746, 0.3486,\n",
            "        0.5800, 0.9966, 0.7219, 0.7009, 0.6515, 0.7491, 0.7076, 0.6409, 0.3726,\n",
            "        0.2764, 0.4258, 0.5679, 0.2294, 0.3987, 0.1648, 0.6334, 0.1657, 0.7631,\n",
            "        0.1219, 0.3511, 0.3317, 0.4526, 0.0187, 0.4938, 0.7053, 0.8781, 0.3218,\n",
            "        0.5012, 0.6477, 0.4078, 0.9835, 0.8517, 0.9423, 0.4030, 0.3403, 0.1234,\n",
            "        0.6322, 0.3136, 0.8275, 0.7039, 0.2016, 0.6047, 0.7514, 0.0438, 0.3994,\n",
            "        0.3078, 0.2686, 0.0955, 0.1693, 0.9494, 0.6799, 0.9937, 0.1803, 0.9707,\n",
            "        0.1986, 0.6117, 0.6396, 0.1543, 0.2847, 0.9968, 0.4339, 0.7773, 0.2123,\n",
            "        0.2468, 0.8082, 0.0682, 0.3441, 0.5562, 0.5121, 0.6385, 0.0946, 0.1995,\n",
            "        0.7381])\n"
          ]
        }
      ],
      "source": [
        "import numpy as np\n",
        "z_set = torch.rand(100) # randum value for train\n",
        "print(z_set)"
      ]
    },
    {
      "cell_type": "code",
      "execution_count": 5,
      "metadata": {
        "id": "TiUspLm1sQ2Y"
      },
      "outputs": [],
      "source": [
        "loss_func = torch.nn.MSELoss() # use MSE loss\n",
        "optimizer = torch.optim.Adam([z_set], learning_rate) # use Adam optimizer, and we update z values (input)\n",
        "losses = []"
      ]
    },
    {
      "cell_type": "code",
      "execution_count": 6,
      "metadata": {
        "colab": {
          "base_uri": "https://localhost:8080/"
        },
        "id": "4329IeCHsnOP",
        "outputId": "f3cad6e0-fb96-4da8-e95f-06e736a3c43e"
      },
      "outputs": [
        {
          "name": "stdout",
          "output_type": "stream",
          "text": [
            "tensor([0.5353], grad_fn=<SigmoidBackward0>)\n",
            "tensor([0.5963], grad_fn=<SigmoidBackward0>)\n",
            "tensor([0.6540], grad_fn=<SigmoidBackward0>)\n",
            "tensor([0.7066], grad_fn=<SigmoidBackward0>)\n",
            "tensor([0.7530], grad_fn=<SigmoidBackward0>)\n",
            "tensor([0.7927], grad_fn=<SigmoidBackward0>)\n",
            "tensor([0.8259], grad_fn=<SigmoidBackward0>)\n",
            "tensor([0.8532], grad_fn=<SigmoidBackward0>)\n",
            "tensor([0.8754], grad_fn=<SigmoidBackward0>)\n",
            "tensor([0.8934], grad_fn=<SigmoidBackward0>)\n",
            "Opened!\n",
            "tensor([0.9081], grad_fn=<SigmoidBackward0>)\n",
            "Opened!\n",
            "tensor([0.9200], grad_fn=<SigmoidBackward0>)\n",
            "Opened!\n",
            "tensor([0.9297], grad_fn=<SigmoidBackward0>)\n",
            "Opened!\n",
            "tensor([0.9377], grad_fn=<SigmoidBackward0>)\n",
            "Opened!\n",
            "tensor([0.9443], grad_fn=<SigmoidBackward0>)\n",
            "Opened!\n",
            "tensor([0.9497], grad_fn=<SigmoidBackward0>)\n",
            "Opened!\n",
            "tensor([0.9543], grad_fn=<SigmoidBackward0>)\n",
            "Opened!\n",
            "tensor([0.9582], grad_fn=<SigmoidBackward0>)\n",
            "Opened!\n",
            "tensor([0.9615], grad_fn=<SigmoidBackward0>)\n",
            "Opened!\n",
            "tensor([0.9643], grad_fn=<SigmoidBackward0>)\n",
            "Opened!\n",
            "tensor([0.9667], grad_fn=<SigmoidBackward0>)\n",
            "Opened!\n",
            "tensor([0.9687], grad_fn=<SigmoidBackward0>)\n",
            "Opened!\n",
            "tensor([0.9705], grad_fn=<SigmoidBackward0>)\n",
            "Opened!\n",
            "tensor([0.9721], grad_fn=<SigmoidBackward0>)\n",
            "Opened!\n",
            "tensor([0.9735], grad_fn=<SigmoidBackward0>)\n",
            "Opened!\n",
            "tensor([0.9747], grad_fn=<SigmoidBackward0>)\n",
            "Opened!\n",
            "tensor([0.9757], grad_fn=<SigmoidBackward0>)\n",
            "Opened!\n",
            "tensor([0.9766], grad_fn=<SigmoidBackward0>)\n",
            "Opened!\n",
            "tensor([0.9775], grad_fn=<SigmoidBackward0>)\n",
            "Opened!\n",
            "tensor([0.9782], grad_fn=<SigmoidBackward0>)\n",
            "Opened!\n",
            "tensor([0.9789], grad_fn=<SigmoidBackward0>)\n",
            "Opened!\n",
            "tensor([0.9795], grad_fn=<SigmoidBackward0>)\n",
            "Opened!\n",
            "tensor([0.9800], grad_fn=<SigmoidBackward0>)\n",
            "Opened!\n",
            "tensor([0.9805], grad_fn=<SigmoidBackward0>)\n",
            "Opened!\n",
            "tensor([0.9809], grad_fn=<SigmoidBackward0>)\n",
            "Opened!\n",
            "tensor([0.9813], grad_fn=<SigmoidBackward0>)\n",
            "Opened!\n",
            "tensor([0.9816], grad_fn=<SigmoidBackward0>)\n",
            "Opened!\n",
            "tensor([0.9820], grad_fn=<SigmoidBackward0>)\n",
            "Opened!\n",
            "tensor([0.9823], grad_fn=<SigmoidBackward0>)\n",
            "Opened!\n",
            "tensor([0.9825], grad_fn=<SigmoidBackward0>)\n",
            "Opened!\n",
            "tensor([0.9828], grad_fn=<SigmoidBackward0>)\n",
            "Opened!\n",
            "tensor([0.9830], grad_fn=<SigmoidBackward0>)\n",
            "Opened!\n",
            "tensor([0.9832], grad_fn=<SigmoidBackward0>)\n",
            "Opened!\n",
            "tensor([0.9834], grad_fn=<SigmoidBackward0>)\n",
            "Opened!\n",
            "tensor([0.9835], grad_fn=<SigmoidBackward0>)\n",
            "Opened!\n",
            "tensor([0.9837], grad_fn=<SigmoidBackward0>)\n",
            "Opened!\n",
            "tensor([0.9838], grad_fn=<SigmoidBackward0>)\n",
            "Opened!\n",
            "tensor([0.9840], grad_fn=<SigmoidBackward0>)\n",
            "Opened!\n",
            "tensor([0.9841], grad_fn=<SigmoidBackward0>)\n",
            "Opened!\n",
            "tensor([0.9842], grad_fn=<SigmoidBackward0>)\n",
            "[0.21596169471740723, 0.16298003494739532, 0.1197163388133049, 0.08606893569231033, 0.061008989810943604, 0.042981695383787155, 0.030325893312692642, 0.021563975140452385, 0.015526346862316132, 0.011355145834386349, 0.008450527675449848, 0.006404699757695198, 0.004944032058119774, 0.003885720856487751, 0.0031072995625436306, 0.00252608023583889, 0.0020857355557382107, 0.0017474113265052438, 0.0014839953510090709, 0.0012763222912326455, 0.0011106639867648482, 0.0009770506294444203, 0.0008681908948346972, 0.0007786417263559997, 0.000704332662280649, 0.000642155937384814, 0.0005897418595850468, 0.0005452391924336553, 0.0005072070634923875, 0.00047450923011638224, 0.00044623870053328574, 0.00042166386265307665, 0.000400197139242664, 0.00038135796785354614, 0.000364760315278545, 0.0003500714374240488, 0.0003370246267877519, 0.00032539432868361473, 0.00031499145552515984, 0.00030565305496566, 0.00029724801424890757, 0.0002896556106861681, 0.00028278454556129873, 0.0002765388635452837, 0.00027085121837444603, 0.0002656557480804622, 0.0002608975046314299, 0.0002565315517131239, 0.0002525092277210206, 0.0002487949968781322]\n"
          ]
        }
      ],
      "source": [
        "z_set.requires_grad = True # for update z values\n",
        "\n",
        "for i in range(num_trials): \n",
        "  optimizer.zero_grad()\n",
        "  output = hacker(z_set)\n",
        "  print(output)\n",
        "  loss = loss_func(output.to(torch.float32), torch.tensor([1]).to(torch.float32)) # calculate loss func with ture value(1 is near value with 0.9)\n",
        "  loss.backward() \n",
        "  optimizer.step()\n",
        "  losses.append(loss.item())\n",
        "print(losses)"
      ]
    }
  ],
  "metadata": {
    "colab": {
      "collapsed_sections": [],
      "provenance": []
    },
    "kernelspec": {
      "display_name": "Python 3.9.12 ('base')",
      "language": "python",
      "name": "python3"
    },
    "language_info": {
      "codemirror_mode": {
        "name": "ipython",
        "version": 3
      },
      "file_extension": ".py",
      "mimetype": "text/x-python",
      "name": "python",
      "nbconvert_exporter": "python",
      "pygments_lexer": "ipython3",
      "version": "3.9.12"
    },
    "vscode": {
      "interpreter": {
        "hash": "68bb9d5cdc217250b373eb4978db7866fe41bd0f2d84bdf2348265e9d63a2e3e"
      }
    }
  },
  "nbformat": 4,
  "nbformat_minor": 0
}
