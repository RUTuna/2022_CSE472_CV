{
  "cells": [
    {
      "cell_type": "markdown",
      "metadata": {
        "id": "fFywD7w9P00B"
      },
      "source": [
        "# Problem2\n",
        "### 20191128 Jian Park"
      ]
    },
    {
      "cell_type": "code",
      "execution_count": 1,
      "metadata": {
        "id": "eG4ZnSncPudy"
      },
      "outputs": [],
      "source": [
        "import cv2\n",
        "import numpy as np\n",
        "import matplotlib.pyplot as plt"
      ]
    },
    {
      "cell_type": "code",
      "execution_count": 2,
      "metadata": {
        "id": "STLDU14zYKW-"
      },
      "outputs": [],
      "source": [
        "# label\n",
        "categories = ['brontosaurus', 'car_side', 'cougar_face', 'dalmatian', 'dollar_bill', 'dragonfly', 'Faces', 'Faces_easy', 'flamingo', 'headphone', 'lotus', 'menorah', 'nautilus', 'pagoda', 'soccer_ball', 'stop_sign', 'sunflower', 'tick', 'windsor_chair', 'yin_yang']\n",
        "detector = cv2.ORB_create() # use ORB feature descriptor"
      ]
    },
    {
      "cell_type": "code",
      "execution_count": 3,
      "metadata": {},
      "outputs": [],
      "source": [
        "def reset_train():\n",
        "\ttrain_path = 'dataset/train'\n",
        "\ttrain_paths = []\n",
        "\ttrain_labels = []\n",
        "\ttrain_features = np.array([]) # save train image feature\n",
        "\timg_len = 30 # (# of train image for each class)\n",
        "\n",
        "\tfor idx, category in enumerate(categories):\n",
        "\t\tdir_path = train_path + '/' + category\n",
        "\t\t\n",
        "\t\tfor i in range(img_len):\n",
        "\t\t\timg_path = dir_path + '/' + 'image_%04d.jpg' % (i+1)\n",
        "\t\t\ttrain_paths.append(img_path)\n",
        "\t\t\ttrain_labels.append(idx)\n",
        "\t\t\timg = cv2.imread(img_path)\n",
        "\t\t\tgray = cv2.cvtColor(img, cv2.COLOR_BGR2GRAY)\n",
        "\t\t\tkpt, desc = detector.detectAndCompute(gray, None) # extract feature of image\n",
        "\n",
        "\t\t\tif train_features.size == 0:\n",
        "\t\t\t\ttrain_features = np.float32(desc)\n",
        "\t\t\telse:\n",
        "\t\t\t\ttrain_features = np.append(train_features, np.float32(desc), axis=0)\n",
        "\n",
        "\treturn train_paths, train_labels, train_features"
      ]
    },
    {
      "cell_type": "code",
      "execution_count": 4,
      "metadata": {},
      "outputs": [],
      "source": [
        "def reset_test():\n",
        "\ttest_path = 'dataset/test'\n",
        "\ttest_paths = []\n",
        "\ttest_labels = []\n",
        "\ttest_features= []\n",
        "\ttest_img_len = 5 # (# of test image for each class)\n",
        "\n",
        "\tfor idx, category in enumerate(categories):\n",
        "\t\tdir_path = test_path + '/' + category\n",
        "\t\t\n",
        "\t\tfor i in range(30, 30+test_img_len):\n",
        "\t\t\timg_path = dir_path + '/' + 'image_%04d.jpg' % (i+1)\n",
        "\t\t\ttest_paths.append(img_path)\n",
        "\t\t\ttest_labels.append(idx)\n",
        "\t\t\timg = cv2.imread(img_path)\n",
        "\t\t\tgray = cv2.cvtColor(img, cv2.COLOR_BGR2GRAY)\n",
        "\t\t\tkpt, desc = detector.detectAndCompute(gray, None)\n",
        "\n",
        "\t\t\ttest_features.append(desc)\n",
        "\n",
        "\treturn test_paths, test_labels, test_features"
      ]
    },
    {
      "cell_type": "code",
      "execution_count": 5,
      "metadata": {
        "id": "aRukkYB1YPMO"
      },
      "outputs": [],
      "source": [
        "def setKmeans(train_features, word_size, save_mode):\n",
        "  dict_file = 'dictionary.npy'\n",
        "  criteria = (cv2.TERM_CRITERIA_EPS + cv2.TERM_CRITERIA_MAX_ITER, 100, 0.1)\n",
        "  ret, label, dictionary = cv2.kmeans(train_features, word_size, None, criteria, 10, cv2.KMEANS_RANDOM_CENTERS)\n",
        "  if save_mode:\n",
        "    np.save(dict_file, dictionary)\n",
        "\n",
        "  return dictionary"
      ]
    },
    {
      "cell_type": "code",
      "execution_count": 6,
      "metadata": {
        "id": "ocWmsejQYPvm"
      },
      "outputs": [],
      "source": [
        "def setKNN(train_paths, dictionary, word_size, save_mode):\n",
        "  knn_model_file = 'nearest_neighbor.xml'\n",
        "  knn = cv2.ml.KNearest_create() # use K-NN\n",
        "  knn.train(dictionary, cv2.ml.ROW_SAMPLE, np.float32(range(word_size)))\n",
        "  train_desc = np.float32(np.zeros((len(train_paths), word_size)))\n",
        "\n",
        "  for i, path in  enumerate(train_paths):\n",
        "    img = cv2.imread(path)\n",
        "    gray = cv2.cvtColor(img, cv2.COLOR_BGR2GRAY)\n",
        "    kpt, desc = detector.detectAndCompute(gray, None)\n",
        "\n",
        "    ret, result, neighbours, dist = knn.findNearest(np.float32(desc), k=1)\n",
        "    hist, bins = np.histogram(np.int32(result), bins=range(word_size + 1))\n",
        "    train_desc[i, :] = np.float32(hist) / np.float32(np.sum(hist))\n",
        "\n",
        "  if save_mode:\n",
        "    knn.save(knn_model_file)\n",
        "  return knn, train_desc"
      ]
    },
    {
      "cell_type": "code",
      "execution_count": 7,
      "metadata": {
        "id": "1CLSI8cMYRXz"
      },
      "outputs": [],
      "source": [
        "def trainSVM(train_labels, train_desc, word_size, kernel, save_mode):\n",
        "  svm_model_file = 'svmmodel.xml'\n",
        "  svm = cv2.ml.SVM_create()\n",
        "  svm.setKernel(kernel)\n",
        "  svm.trainAuto(train_desc, cv2.ml.ROW_SAMPLE, np.array(train_labels)) # C, Gamma 를 자동으로 최적화해서 train\n",
        "\n",
        "  if save_mode:\n",
        "    svm.save(svm_model_file) # train 시킨 모델 저장\n",
        "  return svm"
      ]
    },
    {
      "cell_type": "code",
      "execution_count": 8,
      "metadata": {
        "id": "iSnK4MEEYS6s"
      },
      "outputs": [],
      "source": [
        "def test(test_features, test_labels, svm, knn, word_size):\n",
        "  test_desc = np.float32(np.zeros((len(test_features), word_size)))\n",
        "  corr = 0\n",
        "\n",
        "  for i, desc in enumerate(test_features):\n",
        "    ret, result, neighbours, dist = knn.findNearest(np.float32(desc), k=1)\n",
        "    hist, bins = np.histogram(np.int32(result), bins=range(word_size + 1))\n",
        "    test_desc[i, :] = np.float32(hist) / np.float32(np.sum(hist))\n",
        "    \n",
        "  ret, result = svm.predict(test_desc)\n",
        "\n",
        "  for i in range(len(test_features)):\n",
        "    pred = int(result[i][0])\n",
        "    if pred == test_labels[i]:\n",
        "      corr += 1\n",
        "\n",
        "  accuracy = corr / len(test_features)\n",
        "\n",
        "  return accuracy"
      ]
    },
    {
      "cell_type": "code",
      "execution_count": 9,
      "metadata": {},
      "outputs": [],
      "source": [
        "# 2-1\n",
        "train_paths, train_labels, train_features = reset_train()\n",
        "test_paths, test_labels, test_features = reset_test()\n",
        "\n",
        "size = 50\n",
        "dictionary = setKmeans(train_features, size, True)\n",
        "knn, train_desc = setKNN(train_paths, dictionary, size, True)\n",
        "svm = trainSVM(train_labels, train_desc, size, cv2.ml.SVM_RBF, True)\n",
        "accuracy = test(test_features, test_labels, svm, knn, size)\n",
        "print(accuracy)"
      ]
    },
    {
      "cell_type": "code",
      "execution_count": 14,
      "metadata": {
        "colab": {
          "base_uri": "https://localhost:8080/"
        },
        "id": "7HZXYimRYVbt",
        "outputId": "c35cbb13-5d5d-4764-f4bb-a056b9647c6d"
      },
      "outputs": [
        {
          "name": "stdout",
          "output_type": "stream",
          "text": [
            "0.34\n",
            "0.34\n",
            "0.41\n",
            "0.43\n"
          ]
        },
        {
          "ename": "KeyboardInterrupt",
          "evalue": "",
          "output_type": "error",
          "traceback": [
            "\u001b[0;31m---------------------------------------------------------------------------\u001b[0m",
            "\u001b[0;31mKeyboardInterrupt\u001b[0m                         Traceback (most recent call last)",
            "\u001b[1;32m/Users/jian/Documents/2022_CV/Programming Assignment 1/Problem2_3.ipynb 셀 11\u001b[0m in \u001b[0;36m<cell line: 8>\u001b[0;34m()\u001b[0m\n\u001b[1;32m      <a href='vscode-notebook-cell:/Users/jian/Documents/2022_CV/Programming%20Assignment%201/Problem2_3.ipynb#X13sZmlsZQ%3D%3D?line=7'>8</a>\u001b[0m \u001b[39mfor\u001b[39;00m i \u001b[39min\u001b[39;00m \u001b[39mrange\u001b[39m(\u001b[39m1\u001b[39m, \u001b[39m7\u001b[39m):\n\u001b[1;32m      <a href='vscode-notebook-cell:/Users/jian/Documents/2022_CV/Programming%20Assignment%201/Problem2_3.ipynb#X13sZmlsZQ%3D%3D?line=8'>9</a>\u001b[0m   size \u001b[39m=\u001b[39m i \u001b[39m*\u001b[39m \u001b[39m10\u001b[39m\n\u001b[0;32m---> <a href='vscode-notebook-cell:/Users/jian/Documents/2022_CV/Programming%20Assignment%201/Problem2_3.ipynb#X13sZmlsZQ%3D%3D?line=9'>10</a>\u001b[0m   dictionary \u001b[39m=\u001b[39m setKmeans(train_features, size, \u001b[39mFalse\u001b[39;49;00m)\n\u001b[1;32m     <a href='vscode-notebook-cell:/Users/jian/Documents/2022_CV/Programming%20Assignment%201/Problem2_3.ipynb#X13sZmlsZQ%3D%3D?line=10'>11</a>\u001b[0m   knn, train_desc \u001b[39m=\u001b[39m setKNN(train_paths, dictionary, size, \u001b[39mFalse\u001b[39;00m)\n\u001b[1;32m     <a href='vscode-notebook-cell:/Users/jian/Documents/2022_CV/Programming%20Assignment%201/Problem2_3.ipynb#X13sZmlsZQ%3D%3D?line=11'>12</a>\u001b[0m   svm \u001b[39m=\u001b[39m trainSVM(train_labels, train_desc, size, cv2\u001b[39m.\u001b[39mml\u001b[39m.\u001b[39mSVM_RBF, \u001b[39mFalse\u001b[39;00m)\n",
            "\u001b[1;32m/Users/jian/Documents/2022_CV/Programming Assignment 1/Problem2_3.ipynb 셀 11\u001b[0m in \u001b[0;36msetKmeans\u001b[0;34m(train_features, word_size, save_mode)\u001b[0m\n\u001b[1;32m      <a href='vscode-notebook-cell:/Users/jian/Documents/2022_CV/Programming%20Assignment%201/Problem2_3.ipynb#X13sZmlsZQ%3D%3D?line=1'>2</a>\u001b[0m dict_file \u001b[39m=\u001b[39m \u001b[39m'\u001b[39m\u001b[39mdictionary.npy\u001b[39m\u001b[39m'\u001b[39m\n\u001b[1;32m      <a href='vscode-notebook-cell:/Users/jian/Documents/2022_CV/Programming%20Assignment%201/Problem2_3.ipynb#X13sZmlsZQ%3D%3D?line=2'>3</a>\u001b[0m criteria \u001b[39m=\u001b[39m (cv2\u001b[39m.\u001b[39mTERM_CRITERIA_EPS \u001b[39m+\u001b[39m cv2\u001b[39m.\u001b[39mTERM_CRITERIA_MAX_ITER, \u001b[39m100\u001b[39m, \u001b[39m0.1\u001b[39m)\n\u001b[0;32m----> <a href='vscode-notebook-cell:/Users/jian/Documents/2022_CV/Programming%20Assignment%201/Problem2_3.ipynb#X13sZmlsZQ%3D%3D?line=3'>4</a>\u001b[0m ret, label, dictionary \u001b[39m=\u001b[39m cv2\u001b[39m.\u001b[39;49mkmeans(train_features, word_size, \u001b[39mNone\u001b[39;49;00m, criteria, \u001b[39m10\u001b[39;49m, cv2\u001b[39m.\u001b[39;49mKMEANS_RANDOM_CENTERS)\n\u001b[1;32m      <a href='vscode-notebook-cell:/Users/jian/Documents/2022_CV/Programming%20Assignment%201/Problem2_3.ipynb#X13sZmlsZQ%3D%3D?line=4'>5</a>\u001b[0m \u001b[39mif\u001b[39;00m save_mode:\n\u001b[1;32m      <a href='vscode-notebook-cell:/Users/jian/Documents/2022_CV/Programming%20Assignment%201/Problem2_3.ipynb#X13sZmlsZQ%3D%3D?line=5'>6</a>\u001b[0m   np\u001b[39m.\u001b[39msave(dict_file, dictionary)\n",
            "\u001b[0;31mKeyboardInterrupt\u001b[0m: "
          ]
        }
      ],
      "source": [
        "# 2-2\n",
        "# train_paths, train_labels, train_features = reset_train()\n",
        "# test_paths, test_labels, test_features = reset_test()\n",
        "\n",
        "x = np.arange(1,7)\n",
        "arr = np.zeros(6)\n",
        "\n",
        "for i in range(1, 7):\n",
        "  size = i * 10\n",
        "  dictionary = setKmeans(train_features, size, False)\n",
        "  knn, train_desc = setKNN(train_paths, dictionary, size, False)\n",
        "  svm = trainSVM(train_labels, train_desc, size, cv2.ml.SVM_RBF, False)\n",
        "  accuracy = test(test_features, test_labels, svm, knn, size)\n",
        "  arr[i-1] = accuracy\n",
        "  print(accuracy)"
      ]
    },
    {
      "cell_type": "code",
      "execution_count": null,
      "metadata": {
        "colab": {
          "base_uri": "https://localhost:8080/",
          "height": 265
        },
        "id": "XPuaItnMq4kp",
        "outputId": "2a770abd-a5a4-4928-bd64-a198b7b2b3ae"
      },
      "outputs": [
        {
          "data": {
            "image/png": "[encoded data removed]",
            "text/plain": [
              "<Figure size 432x288 with 1 Axes>"
            ]
          },
          "metadata": {
            "needs_background": "light"
          },
          "output_type": "display_data"
        }
      ],
      "source": [
        "plt.plot(x, arr)\n",
        "plt.title('relationship between the ‘number of codewords’ and the overall ‘accuracy’')\n",
        "plt.show()"
      ]
    },
    {
      "cell_type": "code",
      "execution_count": null,
      "metadata": {
        "colab": {
          "base_uri": "https://localhost:8080/"
        },
        "id": "KtE9nBEXxN4L",
        "outputId": "ae49b461-28b7-46dd-e86c-7e83362b6aed"
      },
      "outputs": [],
      "source": [
        "# 2-3 histogram intersection kernel\n",
        "# train_paths, train_labels, train_features = reset_train()\n",
        "# test_paths, test_labels, test_features = reset_test()\n",
        "\n",
        "x = np.arange(1,7)\n",
        "arr = np.zeros(6)\n",
        "\n",
        "for i in range(1, 7):\n",
        "  size = i * 10\n",
        "  dictionary = setKmeans(train_features, size, False)\n",
        "  knn, train_desc = setKNN(train_paths, dictionary, size, False)\n",
        "  svm = trainSVM(train_labels, train_desc, size, cv2.ml.SVM_INTER, False)\n",
        "  accuracy = test(test_features, test_labels, svm, knn, size)\n",
        "  arr[i-1] = accuracy\n",
        "  print(accuracy)"
      ]
    },
    {
      "cell_type": "code",
      "execution_count": null,
      "metadata": {
        "colab": {
          "base_uri": "https://localhost:8080/",
          "height": 265
        },
        "id": "x-JsXjG8xY7s",
        "outputId": "60208078-d271-4331-d956-71cd6ec31b96"
      },
      "outputs": [],
      "source": [
        "plt.plot(x, arr)\n",
        "plt.title('use a ‘histogram intersection kernel’')\n",
        "plt.show()"
      ]
    }
  ],
  "metadata": {
    "colab": {
      "collapsed_sections": [],
      "provenance": []
    },
    "kernelspec": {
      "display_name": "Python 3.9.12 ('base')",
      "language": "python",
      "name": "python3"
    },
    "language_info": {
      "codemirror_mode": {
        "name": "ipython",
        "version": 3
      },
      "file_extension": ".py",
      "mimetype": "text/x-python",
      "name": "python",
      "nbconvert_exporter": "python",
      "pygments_lexer": "ipython3",
      "version": "3.9.12"
    },
    "vscode": {
      "interpreter": {
        "hash": "68bb9d5cdc217250b373eb4978db7866fe41bd0f2d84bdf2348265e9d63a2e3e"
      }
    }
  },
  "nbformat": 4,
  "nbformat_minor": 0
}
