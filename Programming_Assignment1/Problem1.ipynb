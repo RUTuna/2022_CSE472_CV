{
  "cells": [
    {
      "cell_type": "markdown",
      "metadata": {
        "id": "yQsryXOb1zLX"
      },
      "source": [
        "# Problem1\n",
        "### 20191128 Jian Park"
      ]
    },
    {
      "cell_type": "code",
      "execution_count": 1,
      "metadata": {
        "id": "fooMKP1f1j1L"
      },
      "outputs": [],
      "source": [
        "from PIL import Image"
      ]
    },
    {
      "cell_type": "code",
      "execution_count": 2,
      "metadata": {
        "id": "i7I4WtC92GKk"
      },
      "outputs": [],
      "source": [
        "# import each image from Google Drive\n",
        "img1 = Image.open(\"PA1_problem1_images/image1.png\")\n",
        "img2 = Image.open(\"PA1_problem1_images/image2.png\")\n",
        "img3 = Image.open(\"PA1_problem1_images/image3.png\")\n",
        "img4 = Image.open(\"PA1_problem1_images/image4.png\")\n",
        "img5 = Image.open(\"PA1_problem1_images/image5.png\")"
      ]
    },
    {
      "cell_type": "code",
      "execution_count": 3,
      "metadata": {
        "colab": {
          "base_uri": "https://localhost:8080/",
          "height": 497
        },
        "id": "mMq1Tti-6WiU",
        "outputId": "223b2224-62c9-43e6-eda0-267d672055c5"
      },
      "outputs": [
        {
          "data": {
            "image/png": "[encoded data removed]",
            "text/plain": [
              "<PIL.Image.Image image mode=L size=640x480 at 0x1085DC5B0>"
            ]
          },
          "execution_count": 3,
          "metadata": {},
          "output_type": "execute_result"
        }
      ],
      "source": [
        "# Split red chanel\n",
        "img1.split()[0] # result is 7"
      ]
    },
    {
      "cell_type": "code",
      "execution_count": 4,
      "metadata": {
        "colab": {
          "base_uri": "https://localhost:8080/",
          "height": 497
        },
        "id": "tdwCX2Tl6j9U",
        "outputId": "735d8be3-ae41-4487-b18b-0ff0bf6ac986"
      },
      "outputs": [
        {
          "data": {
            "image/png": "[encoded data removed]",
            "text/plain": [
              "<PIL.Image.Image image mode=L size=640x480 at 0x1085DC370>"
            ]
          },
          "execution_count": 4,
          "metadata": {},
          "output_type": "execute_result"
        }
      ],
      "source": [
        "img2.split()[0] # result is 4"
      ]
    },
    {
      "cell_type": "code",
      "execution_count": 5,
      "metadata": {
        "colab": {
          "base_uri": "https://localhost:8080/",
          "height": 497
        },
        "id": "IP-M5elh6k0Y",
        "outputId": "ab94ea28-977f-4ef0-ed88-c3bd0efd7ea9"
      },
      "outputs": [
        {
          "data": {
            "image/png": "[encoded data removed]",
            "text/plain": [
              "<PIL.Image.Image image mode=L size=640x480 at 0x10855F130>"
            ]
          },
          "execution_count": 5,
          "metadata": {},
          "output_type": "execute_result"
        }
      ],
      "source": [
        "img3.split()[0] # result is 3"
      ]
    },
    {
      "cell_type": "code",
      "execution_count": 6,
      "metadata": {
        "colab": {
          "base_uri": "https://localhost:8080/",
          "height": 497
        },
        "id": "yfydCl7D6kki",
        "outputId": "c693be7c-ecd8-4d15-8279-6d6dcdadbb6e"
      },
      "outputs": [
        {
          "data": {
            "image/png": "[encoded data removed]",
            "text/plain": [
              "<PIL.Image.Image image mode=L size=640x480 at 0x10CF1AD90>"
            ]
          },
          "execution_count": 6,
          "metadata": {},
          "output_type": "execute_result"
        }
      ],
      "source": [
        "img4.split()[0] # result is 8"
      ]
    },
    {
      "cell_type": "code",
      "execution_count": 7,
      "metadata": {
        "colab": {
          "base_uri": "https://localhost:8080/",
          "height": 497
        },
        "id": "hEXaNG_E6kT2",
        "outputId": "9b2b16e1-7c45-48f0-cb1e-ebbf4610dbe0"
      },
      "outputs": [
        {
          "data": {
            "image/png": "[encoded data removed]",
            "text/plain": [
              "<PIL.Image.Image image mode=L size=640x480 at 0x1085DCBE0>"
            ]
          },
          "execution_count": 7,
          "metadata": {},
          "output_type": "execute_result"
        }
      ],
      "source": [
        "img5.split()[0] # result is 9"
      ]
    }
  ],
  "metadata": {
    "colab": {
      "provenance": []
    },
    "kernelspec": {
      "display_name": "Python 3.9.12 ('base')",
      "language": "python",
      "name": "python3"
    },
    "language_info": {
      "codemirror_mode": {
        "name": "ipython",
        "version": 3
      },
      "file_extension": ".py",
      "mimetype": "text/x-python",
      "name": "python",
      "nbconvert_exporter": "python",
      "pygments_lexer": "ipython3",
      "version": "3.9.12"
    },
    "vscode": {
      "interpreter": {
        "hash": "68bb9d5cdc217250b373eb4978db7866fe41bd0f2d84bdf2348265e9d63a2e3e"
      }
    }
  },
  "nbformat": 4,
  "nbformat_minor": 0
}
